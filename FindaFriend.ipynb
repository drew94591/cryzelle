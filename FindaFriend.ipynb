{
 "cells": [
  {
   "cell_type": "code",
   "execution_count": 9,
   "id": "bc5a7e3f-3d64-40aa-bd02-ed6fdec6514c",
   "metadata": {
    "tags": []
   },
   "outputs": [],
   "source": [
    "import streamlit as st\n",
    "from streamlit_authenticator.db_utils import  get_user_profile_by_phone, get_user_profile_by_email"
   ]
  },
  {
   "cell_type": "code",
   "execution_count": 8,
   "id": "f6bc6d1d-523c-4e0f-acae-3706de4bcf0d",
   "metadata": {},
   "outputs": [
    {
     "data": {
      "text/plain": [
       "DeltaGenerator(_root_container=0, _provided_cursor=None, _parent=None, _block_type=None, _form_data=None)"
      ]
     },
     "execution_count": 8,
     "metadata": {},
     "output_type": "execute_result"
    }
   ],
   "source": [
    "st.markdown(\"# Find a Friend\")\n",
    "st.text(\" \\n\")\n",
    "st.text(\" \\n\")"
   ]
  },
  {
   "cell_type": "code",
   "execution_count": 10,
   "id": "b9171637-f5f0-4e7a-85b3-87849fcb68e6",
   "metadata": {},
   "outputs": [],
   "source": [
    "st.write(\"Please enter your friends phone number or email.\")\n",
    "friend = st.text_input(\"Phone or Email\")\n",
    "at_sym = \"@\"\n",
    "phone = \"\"\n",
    "friend_information = []\n",
    "\n",
    "if st.button(\"Find\"):\n",
    "# Check to see if email or phone number\n",
    "    numbers = sum(c.isdigit() for c in friend)\n",
    "    letters = sum(c.isalpha() for c in friend)\n",
    "\n",
    "    if numbers > 8 and letters < 1:\n",
    "    # Phone number check first\n",
    "    \n",
    "        for i in friend:\n",
    "            if i.isnumeric():\n",
    "                phone+=friend[i]\n",
    "            \n",
    "        if len(phone) > 9:\n",
    "            if phone[0] == \"1\":\n",
    "                phone = phone[1:]\n",
    "            else:\n",
    "                st.write(\"The phone number is too long, please try again.\")\n",
    "            \n",
    "        if len(phone) == 9:\n",
    "            friend_information = get_user_profile_by_phone(phone)\n",
    "\n",
    "    \n",
    "    elif at_sym in friend:\n",
    "    # Email check\n",
    "        friend_information = get_user_profile_by_email(friend)\n",
    "        \n",
    "    else:\n",
    "    # Neither\n",
    "    \n",
    "        st.write(\"Not a valid entry, please try again.\")"
   ]
  },
  {
   "cell_type": "code",
   "execution_count": null,
   "id": "1332a543-153d-49c6-ba0f-e8b327127c6d",
   "metadata": {},
   "outputs": [],
   "source": [
    "if friend_information != None\n",
    "\n",
    "    st.write(\"We found this person in our system.\")\n",
    "\n",
    "    # (first name, last name, mobile number, email)\n",
    "\n",
    "    st.write(\"First Name: \", friend_information[0])\n",
    "    st.write(\"Last Name: \", friend_information[1])\n",
    "    st.write(\"Mobile Number: \", friend_information[2])\n",
    "    st.write(\"Email: \", friend_information[3])\n",
    "    st.text(\" \\n\")\n",
    "\n",
    "else:\n",
    "    \n",
    "    st.write(f\"We could not find {friend} in our database.\") "
   ]
  }
 ],
 "metadata": {
  "kernelspec": {
   "display_name": "dev",
   "language": "python",
   "name": "dev"
  },
  "language_info": {
   "codemirror_mode": {
    "name": "ipython",
    "version": 3
   },
   "file_extension": ".py",
   "mimetype": "text/x-python",
   "name": "python",
   "nbconvert_exporter": "python",
   "pygments_lexer": "ipython3",
   "version": "3.9.13"
  }
 },
 "nbformat": 4,
 "nbformat_minor": 5
}
